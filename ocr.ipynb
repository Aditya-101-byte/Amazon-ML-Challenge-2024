{
 "cells": [
  {
   "cell_type": "code",
   "execution_count": 7,
   "id": "14aa1e87",
   "metadata": {},
   "outputs": [
    {
     "name": "stdout",
     "output_type": "stream",
     "text": [
      "Defaulting to user installation because normal site-packages is not writeable\n",
      "Requirement already satisfied: pytesseract in c:\\users\\hp\\appdata\\roaming\\python\\python39\\site-packages (0.3.13)\n",
      "Requirement already satisfied: pillow in c:\\users\\hp\\appdata\\roaming\\python\\python39\\site-packages (10.4.0)\n",
      "Requirement already satisfied: requests in c:\\users\\hp\\appdata\\roaming\\python\\python39\\site-packages (2.31.0)\n",
      "Requirement already satisfied: opencv-python in c:\\users\\hp\\appdata\\roaming\\python\\python39\\site-packages (4.10.0.84)\n",
      "Requirement already satisfied: pandas in c:\\users\\hp\\appdata\\roaming\\python\\python39\\site-packages (2.2.2)\n",
      "Requirement already satisfied: packaging>=21.3 in c:\\users\\hp\\appdata\\roaming\\python\\python39\\site-packages (from pytesseract) (24.1)\n",
      "Requirement already satisfied: certifi>=2017.4.17 in c:\\users\\hp\\appdata\\roaming\\python\\python39\\site-packages (from requests) (2024.8.30)\n",
      "Requirement already satisfied: urllib3<3,>=1.21.1 in c:\\users\\hp\\appdata\\roaming\\python\\python39\\site-packages (from requests) (2.2.2)\n",
      "Requirement already satisfied: idna<4,>=2.5 in c:\\users\\hp\\appdata\\roaming\\python\\python39\\site-packages (from requests) (3.8)\n",
      "Requirement already satisfied: charset-normalizer<4,>=2 in c:\\users\\hp\\appdata\\roaming\\python\\python39\\site-packages (from requests) (3.3.2)\n",
      "Requirement already satisfied: numpy>=1.17.0 in c:\\users\\hp\\appdata\\roaming\\python\\python39\\site-packages (from opencv-python) (1.24.4)\n",
      "Requirement already satisfied: pytz>=2020.1 in c:\\users\\hp\\appdata\\roaming\\python\\python39\\site-packages (from pandas) (2023.3.post1)\n",
      "Requirement already satisfied: tzdata>=2022.7 in c:\\users\\hp\\appdata\\roaming\\python\\python39\\site-packages (from pandas) (2024.1)\n",
      "Requirement already satisfied: python-dateutil>=2.8.2 in c:\\programdata\\anaconda3\\lib\\site-packages (from pandas) (2.8.2)\n",
      "Requirement already satisfied: six>=1.5 in c:\\programdata\\anaconda3\\lib\\site-packages (from python-dateutil>=2.8.2->pandas) (1.16.0)\n"
     ]
    }
   ],
   "source": [
    "!pip install pytesseract pillow requests opencv-python pandas"
   ]
  },
  {
   "cell_type": "code",
   "execution_count": 8,
   "id": "baa49d85",
   "metadata": {},
   "outputs": [],
   "source": [
    "import requests\n",
    "from PIL import Image\n",
    "import pytesseract\n",
    "import cv2\n",
    "import os\n",
    "import re\n",
    "import pandas as pd\n",
    "from io import BytesIO\n",
    "\n",
    "# Download image helper\n",
    "def download_image(url, save_path):\n",
    "    try:\n",
    "        response = requests.get(url)\n",
    "        if response.status_code == 200:\n",
    "            img = Image.open(BytesIO(response.content))\n",
    "            img.save(save_path)\n",
    "            return save_path\n",
    "    except Exception as e:\n",
    "        print(f\"Error downloading image {url}: {e}\")\n",
    "    return None\n",
    "\n",
    "# Directory to store downloaded images\n",
    "download_dir = \"images/\"\n",
    "os.makedirs(download_dir, exist_ok=True)"
   ]
  },
  {
   "cell_type": "code",
   "execution_count": 9,
   "id": "6171440c",
   "metadata": {},
   "outputs": [],
   "source": [
    "def extract_text_from_image(image_path):\n",
    "    try:\n",
    "        img = cv2.imread(image_path)\n",
    "        gray = cv2.cvtColor(img, cv2.COLOR_BGR2GRAY)  # Convert to grayscale\n",
    "        text = pytesseract.image_to_string(gray)  # Extract text using OCR\n",
    "        return text\n",
    "    except Exception as e:\n",
    "        print(f\"Error extracting text from {image_path}: {e}\")\n",
    "        return \"\""
   ]
  },
  {
   "cell_type": "code",
   "execution_count": 13,
   "id": "057e2473",
   "metadata": {},
   "outputs": [],
   "source": [
    "entity_unit_map = {\n",
    "    'width': ['centimetre', 'foot', 'inch', 'metre', 'millimetre', 'yard'],\n",
    "    'depth': ['centimetre', 'foot', 'inch', 'metre', 'millimetre', 'yard'],\n",
    "    'height': ['centimetre', 'foot', 'inch', 'metre', 'millimetre', 'yard'],\n",
    "    'item_weight': ['gram','kilogram','microgram', 'milligram','ounce',\n",
    "        'pound',\n",
    "        'ton'],\n",
    "    'maximum_weight_recommendation': ['gram',\n",
    "        'kilogram',\n",
    "        'microgram',\n",
    "        'milligram',\n",
    "        'ounce',\n",
    "        'pound',\n",
    "        'ton'],\n",
    "    'voltage': ['kilovolt', 'millivolt', 'volt'],\n",
    "    'wattage': ['kilowatt', 'watt'],\n",
    "    'item_volume': ['centilitre',\n",
    "        'cubic foot',\n",
    "        'cubic inch',\n",
    "        'cup',\n",
    "        'decilitre',\n",
    "        'fluid ounce',\n",
    "        'gallon',\n",
    "        'imperial gallon',\n",
    "        'litre',\n",
    "        'microlitre',\n",
    "        'millilitre',\n",
    "        'pint',\n",
    "        'quart']\n",
    "}\n",
    "\n",
    "ALLOWED_UNITS = [unit for entity in entity_unit_map for unit in entity_unit_map[entity]]"
   ]
  },
  {
   "cell_type": "code",
   "execution_count": 14,
   "id": "7ccceed8",
   "metadata": {},
   "outputs": [],
   "source": [
    "def extract_entity_value(text, entity_name):\n",
    "    # Define regex for extracting number and unit\n",
    "    number_pattern = r\"(\\d*\\.?\\d+)\"\n",
    "    unit_pattern = \"|\".join(ALLOWED_UNITS[entity_name])\n",
    "    \n",
    "    pattern = re.compile(f\"({number_pattern})\\s*({unit_pattern})\", re.IGNORECASE)\n",
    "    match = pattern.search(text)\n",
    "    \n",
    "    if match:\n",
    "        number = match.group(1)\n",
    "        unit = match.group(2).lower()\n",
    "        return f\"{float(number)} {unit}\"\n",
    "    \n",
    "    return \"\"  # If no valid match is found"
   ]
  },
  {
   "cell_type": "code",
   "execution_count": 18,
   "id": "b7eec60f",
   "metadata": {},
   "outputs": [],
   "source": [
    "pytesseract.pytesseract.tesseract_cmd = r'C:\\users\\hp\\appdata\\roaming\\python\\python39\\site-packages\\tesseract.exe'"
   ]
  },
  {
   "cell_type": "code",
   "execution_count": 19,
   "id": "84d26442",
   "metadata": {},
   "outputs": [
    {
     "name": "stdout",
     "output_type": "stream",
     "text": [
      "Error extracting text from images/0.jpg: C:\\users\\hp\\appdata\\roaming\\python\\python39\\site-packages\\tesseract.exe is not installed or it's not in your PATH. See README file for more information.\n"
     ]
    },
    {
     "ename": "TypeError",
     "evalue": "'set' object is not subscriptable",
     "output_type": "error",
     "traceback": [
      "\u001b[1;31m---------------------------------------------------------------------------\u001b[0m",
      "\u001b[1;31mTypeError\u001b[0m                                 Traceback (most recent call last)",
      "\u001b[1;32m~\\AppData\\Local\\Temp\\ipykernel_16848\\2901111948.py\u001b[0m in \u001b[0;36m<module>\u001b[1;34m\u001b[0m\n\u001b[0;32m     20\u001b[0m \u001b[1;33m\u001b[0m\u001b[0m\n\u001b[0;32m     21\u001b[0m         \u001b[1;31m# Extract the relevant entity value\u001b[0m\u001b[1;33m\u001b[0m\u001b[1;33m\u001b[0m\u001b[0m\n\u001b[1;32m---> 22\u001b[1;33m         \u001b[0mentity_value\u001b[0m \u001b[1;33m=\u001b[0m \u001b[0mextract_entity_value\u001b[0m\u001b[1;33m(\u001b[0m\u001b[0mextracted_text\u001b[0m\u001b[1;33m,\u001b[0m \u001b[0mentity_name\u001b[0m\u001b[1;33m)\u001b[0m\u001b[1;33m\u001b[0m\u001b[1;33m\u001b[0m\u001b[0m\n\u001b[0m\u001b[0;32m     23\u001b[0m \u001b[1;33m\u001b[0m\u001b[0m\n\u001b[0;32m     24\u001b[0m         \u001b[1;31m# Store the prediction (if no value found, entity_value will be empty)\u001b[0m\u001b[1;33m\u001b[0m\u001b[1;33m\u001b[0m\u001b[0m\n",
      "\u001b[1;32m~\\AppData\\Local\\Temp\\ipykernel_16848\\490278637.py\u001b[0m in \u001b[0;36mextract_entity_value\u001b[1;34m(text, entity_name)\u001b[0m\n\u001b[0;32m      2\u001b[0m     \u001b[1;31m# Define regex for extracting number and unit\u001b[0m\u001b[1;33m\u001b[0m\u001b[1;33m\u001b[0m\u001b[0m\n\u001b[0;32m      3\u001b[0m     \u001b[0mnumber_pattern\u001b[0m \u001b[1;33m=\u001b[0m \u001b[1;34mr\"(\\d*\\.?\\d+)\"\u001b[0m\u001b[1;33m\u001b[0m\u001b[1;33m\u001b[0m\u001b[0m\n\u001b[1;32m----> 4\u001b[1;33m     \u001b[0munit_pattern\u001b[0m \u001b[1;33m=\u001b[0m \u001b[1;34m\"|\"\u001b[0m\u001b[1;33m.\u001b[0m\u001b[0mjoin\u001b[0m\u001b[1;33m(\u001b[0m\u001b[0mALLOWED_UNITS\u001b[0m\u001b[1;33m[\u001b[0m\u001b[0mentity_name\u001b[0m\u001b[1;33m]\u001b[0m\u001b[1;33m)\u001b[0m\u001b[1;33m\u001b[0m\u001b[1;33m\u001b[0m\u001b[0m\n\u001b[0m\u001b[0;32m      5\u001b[0m \u001b[1;33m\u001b[0m\u001b[0m\n\u001b[0;32m      6\u001b[0m     \u001b[0mpattern\u001b[0m \u001b[1;33m=\u001b[0m \u001b[0mre\u001b[0m\u001b[1;33m.\u001b[0m\u001b[0mcompile\u001b[0m\u001b[1;33m(\u001b[0m\u001b[1;34mf\"({number_pattern})\\s*({unit_pattern})\"\u001b[0m\u001b[1;33m,\u001b[0m \u001b[0mre\u001b[0m\u001b[1;33m.\u001b[0m\u001b[0mIGNORECASE\u001b[0m\u001b[1;33m)\u001b[0m\u001b[1;33m\u001b[0m\u001b[1;33m\u001b[0m\u001b[0m\n",
      "\u001b[1;31mTypeError\u001b[0m: 'set' object is not subscriptable"
     ]
    }
   ],
   "source": [
    "# Assuming you have train.csv and test.csv\n",
    "train_df = pd.read_csv(\"train.csv\")\n",
    "test_df = pd.read_csv(\"test.csv\")\n",
    "\n",
    "# Initialize lists for predictions\n",
    "predictions = []\n",
    "\n",
    "# Loop through each test image\n",
    "for idx, row in test_df.iterrows():\n",
    "    image_url = row['image_link']\n",
    "    entity_name = row['entity_name']\n",
    "    \n",
    "    # Download image\n",
    "    image_path = os.path.join(download_dir, f\"{idx}.jpg\")\n",
    "    downloaded_image = download_image(image_url, image_path)\n",
    "    \n",
    "    if downloaded_image:\n",
    "        # Extract text from image\n",
    "        extracted_text = extract_text_from_image(downloaded_image)\n",
    "        \n",
    "        # Extract the relevant entity value\n",
    "        entity_value = extract_entity_value(extracted_text, entity_name)\n",
    "        \n",
    "        # Store the prediction (if no value found, entity_value will be empty)\n",
    "        predictions.append([row['index'], entity_value])\n",
    "    else:\n",
    "        # If image download fails, add an empty prediction\n",
    "        predictions.append([row['index'], \"\"])\n",
    "\n",
    "# Convert predictions to DataFrame and save to CSV\n",
    "predictions_df = pd.DataFrame(predictions, columns=[\"index\", \"prediction\"])\n",
    "predictions_df.to_csv(\"submission.csv\", index=False)\n"
   ]
  },
  {
   "cell_type": "code",
   "execution_count": 16,
   "id": "f4465dfd",
   "metadata": {
    "collapsed": true
   },
   "outputs": [
    {
     "name": "stderr",
     "output_type": "stream",
     "text": [
      "C:\\Users\\hp\\AppData\\Roaming\\Python\\Python39\\site-packages\\pandas\\core\\computation\\expressions.py:21: UserWarning: Pandas requires version '2.8.4' or newer of 'numexpr' (version '2.8.3' currently installed).\n",
      "  from pandas.core.computation.check import NUMEXPR_INSTALLED\n",
      "C:\\Users\\hp\\AppData\\Roaming\\Python\\Python39\\site-packages\\pandas\\core\\arrays\\masked.py:60: UserWarning: Pandas requires version '1.3.6' or newer of 'bottleneck' (version '1.3.5' currently installed).\n",
      "  from pandas.core import (\n",
      "usage: sanity.py [-h] --test_filename TEST_FILENAME --output_filename\n",
      "                 OUTPUT_FILENAME\n",
      "sanity.py: error: the following arguments are required: --test_filename, --output_filename\n"
     ]
    }
   ],
   "source": [
    "!python sanity.py "
   ]
  },
  {
   "cell_type": "code",
   "execution_count": null,
   "id": "de7e757d",
   "metadata": {},
   "outputs": [],
   "source": []
  }
 ],
 "metadata": {
  "kernelspec": {
   "display_name": "Python 3 (ipykernel)",
   "language": "python",
   "name": "python3"
  },
  "language_info": {
   "codemirror_mode": {
    "name": "ipython",
    "version": 3
   },
   "file_extension": ".py",
   "mimetype": "text/x-python",
   "name": "python",
   "nbconvert_exporter": "python",
   "pygments_lexer": "ipython3",
   "version": "3.9.13"
  }
 },
 "nbformat": 4,
 "nbformat_minor": 5
}
